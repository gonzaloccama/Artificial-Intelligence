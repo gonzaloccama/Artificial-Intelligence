{
 "cells": [
  {
   "cell_type": "code",
   "execution_count": 10,
   "id": "9ba78637-3108-408d-b76e-8eb3f3c670e3",
   "metadata": {},
   "outputs": [],
   "source": [
    "import tensorflow as tf"
   ]
  },
  {
   "cell_type": "code",
   "execution_count": 11,
   "id": "3d8b9a94-87ec-4045-bed4-17d0fba49a6c",
   "metadata": {},
   "outputs": [],
   "source": [
    "import numpy as np"
   ]
  },
  {
   "cell_type": "code",
   "execution_count": 12,
   "id": "09eb80fc-dd9e-404f-a08f-7bdb71f41721",
   "metadata": {},
   "outputs": [],
   "source": [
    "celsius =    np.array([-40, -10, 0, 8, 15, 22, 38, 56], dtype=float)\n",
    "fahrenheit = np.array([-40, 14, 32, 46.4, 59, 71.6, 100.4, 132.8], dtype=float)"
   ]
  },
  {
   "cell_type": "code",
   "execution_count": 13,
   "id": "53049e7e-ff6f-4863-95df-d736a3d38c10",
   "metadata": {},
   "outputs": [],
   "source": [
    "#capa = tf.keras.layers.Dense(units=1, input_shape=[1])\n",
    "#modelo = tf.keras.Sequential([capa])\n",
    "\n",
    "oculta1 = tf.keras.layers.Dense(units=3, input_shape=[1])\n",
    "oculta2 = tf.keras.layers.Dense(units=3)\n",
    "salida = tf.keras.layers.Dense(units=1)\n",
    "modelo = tf.keras.Sequential([oculta1, oculta2, salida])"
   ]
  },
  {
   "cell_type": "code",
   "execution_count": 14,
   "id": "c047403a-f4e0-4713-819f-68d01e3ccbd8",
   "metadata": {},
   "outputs": [],
   "source": [
    "modelo.compile(\n",
    "    optimizer=tf.keras.optimizers.Adam(0.1),\n",
    "    loss='mean_squared_error'\n",
    ")"
   ]
  },
  {
   "cell_type": "code",
   "execution_count": 15,
   "id": "51195030-d201-469b-aec1-5dd3b894c571",
   "metadata": {},
   "outputs": [
    {
     "name": "stdout",
     "output_type": "stream",
     "text": [
      "Comenzando treinamento...\n",
      "Modelo Treinado\n"
     ]
    }
   ],
   "source": [
    "print(\"Comenzando treinamento...\")\n",
    "Historial = modelo.fit(celsius, fahrenheit, epochs=1000, verbose=False)\n",
    "print(\"Modelo Treinado\")"
   ]
  },
  {
   "cell_type": "code",
   "execution_count": 16,
   "id": "b7d51bcb-3466-42f8-b226-64e31c02d526",
   "metadata": {},
   "outputs": [
    {
     "data": {
      "text/plain": [
       "[<matplotlib.lines.Line2D at 0x7f2600139ca0>]"
      ]
     },
     "execution_count": 16,
     "metadata": {},
     "output_type": "execute_result"
    },
    {
     "data": {
      "image/png": "[encoded data removed]",
      "text/plain": [
       "<Figure size 432x288 with 1 Axes>"
      ]
     },
     "metadata": {
      "needs_background": "light"
     },
     "output_type": "display_data"
    }
   ],
   "source": [
    "import matplotlib.pyplot as plt\n",
    "plt.xlabel(\"# Epoca\")\n",
    "plt.ylabel(\"Magnitud de perdida\")\n",
    "plt.plot(Historial.history[\"loss\"])"
   ]
  },
  {
   "cell_type": "code",
   "execution_count": 17,
   "id": "7f4ee9ca-4ae6-4341-88c9-0c2e8a860399",
   "metadata": {},
   "outputs": [
    {
     "name": "stdout",
     "output_type": "stream",
     "text": [
      "El resultado es [[-454.00003]] fahrenheit\n"
     ]
    }
   ],
   "source": [
    "resultado = modelo.predict([-270])\n",
    "print(\"El resultado es \" + str(resultado) + \" fahrenheit\")"
   ]
  },
  {
   "cell_type": "code",
   "execution_count": 21,
   "id": "0aa50443-d53f-4a13-b47c-8a5823fa911f",
   "metadata": {},
   "outputs": [
    {
     "name": "stdout",
     "output_type": "stream",
     "text": [
      "[array([[-0.4926913,  0.6184993,  0.4402287]], dtype=float32), array([-0.39120963,  5.7446866 ,  4.90248   ], dtype=float32)]\n",
      "[array([[-0.3223895 , -0.10532221,  0.6311837 ],\n",
      "       [-2.0799856 , -1.1438004 ,  0.2802748 ],\n",
      "       [-1.08349   , -0.15881433,  1.1227217 ]], dtype=float32), array([-4.2625766,  2.5620706,  2.3866787], dtype=float32)]\n",
      "[array([[-1.154806  ],\n",
      "       [ 0.30737847],\n",
      "       [ 0.47661594]], dtype=float32), array([4.338749], dtype=float32)]\n"
     ]
    }
   ],
   "source": [
    "#print(capa.get_weights())\n",
    "print(oculta1.get_weights())\n",
    "print(oculta2.get_weights())\n",
    "print(salida.get_weights())"
   ]
  },
  {
   "cell_type": "code",
   "execution_count": null,
   "id": "54ade4bf-d6e6-461f-8551-c977f9984428",
   "metadata": {},
   "outputs": [],
   "source": []
  }
 ],
 "metadata": {
  "kernelspec": {
   "display_name": "Python 3 (ipykernel)",
   "language": "python",
   "name": "python3"
  },
  "language_info": {
   "codemirror_mode": {
    "name": "ipython",
    "version": 3
   },
   "file_extension": ".py",
   "mimetype": "text/x-python",
   "name": "python",
   "nbconvert_exporter": "python",
   "pygments_lexer": "ipython3",
   "version": "3.8.10"
  }
 },
 "nbformat": 4,
 "nbformat_minor": 5
}
