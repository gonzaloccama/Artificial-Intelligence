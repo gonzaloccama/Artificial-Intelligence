{
 "cells": [
  {
   "cell_type": "code",
   "execution_count": 1,
   "id": "e30d6466-1749-41a5-9413-4c25b2986979",
   "metadata": {},
   "outputs": [],
   "source": [
    "import numpy as np"
   ]
  },
  {
   "cell_type": "code",
   "execution_count": 2,
   "id": "4d284782-20c1-4a47-a34a-30ff7e378f70",
   "metadata": {},
   "outputs": [],
   "source": [
    "mylist = [1,2,3]"
   ]
  },
  {
   "cell_type": "code",
   "execution_count": 3,
   "id": "543de6fb-a95d-4bbe-8669-13309346b689",
   "metadata": {},
   "outputs": [
    {
     "data": {
      "text/plain": [
       "list"
      ]
     },
     "execution_count": 3,
     "metadata": {},
     "output_type": "execute_result"
    }
   ],
   "source": [
    "type(mylist)"
   ]
  },
  {
   "cell_type": "code",
   "execution_count": 4,
   "id": "2e39196c-c28e-4aa6-be25-fa1fb4d04b73",
   "metadata": {},
   "outputs": [
    {
     "data": {
      "text/plain": [
       "array([1, 2, 3])"
      ]
     },
     "execution_count": 4,
     "metadata": {},
     "output_type": "execute_result"
    }
   ],
   "source": [
    "np.array(mylist)"
   ]
  },
  {
   "cell_type": "code",
   "execution_count": 5,
   "id": "f98b6373-b114-4ed6-ad73-19b87fd3e179",
   "metadata": {},
   "outputs": [
    {
     "data": {
      "text/plain": [
       "list"
      ]
     },
     "execution_count": 5,
     "metadata": {},
     "output_type": "execute_result"
    }
   ],
   "source": [
    "type(mylist)"
   ]
  },
  {
   "cell_type": "code",
   "execution_count": 6,
   "id": "281d0ae0-51d7-4603-8219-8ed415264963",
   "metadata": {},
   "outputs": [],
   "source": [
    "arr = np.array(mylist)"
   ]
  },
  {
   "cell_type": "code",
   "execution_count": 7,
   "id": "c08d585f-7e5d-447e-9cec-458b0d6b8e4e",
   "metadata": {},
   "outputs": [
    {
     "data": {
      "text/plain": [
       "array([1, 2, 3])"
      ]
     },
     "execution_count": 7,
     "metadata": {},
     "output_type": "execute_result"
    }
   ],
   "source": [
    "arr"
   ]
  },
  {
   "cell_type": "code",
   "execution_count": 8,
   "id": "1d15518e-aabb-4905-907d-8f9bc24c499a",
   "metadata": {},
   "outputs": [],
   "source": [
    "mylist = [[1,2,3],[4,5,6],[7,8,9]]"
   ]
  },
  {
   "cell_type": "code",
   "execution_count": 9,
   "id": "baab7e9e-add6-46cf-b0dd-e0f12c7d8225",
   "metadata": {},
   "outputs": [
    {
     "data": {
      "text/plain": [
       "[[1, 2, 3], [4, 5, 6], [7, 8, 9]]"
      ]
     },
     "execution_count": 9,
     "metadata": {},
     "output_type": "execute_result"
    }
   ],
   "source": [
    "mylist"
   ]
  },
  {
   "cell_type": "code",
   "execution_count": 10,
   "id": "b8f2ea9c-1f98-4850-98be-2dc85835cd48",
   "metadata": {},
   "outputs": [],
   "source": [
    "mymatrix = np.array(mylist)"
   ]
  },
  {
   "cell_type": "code",
   "execution_count": 11,
   "id": "cf32d9ee-fa0d-4a71-b7a2-589cb7ca285f",
   "metadata": {},
   "outputs": [
    {
     "data": {
      "text/plain": [
       "(3, 3)"
      ]
     },
     "execution_count": 11,
     "metadata": {},
     "output_type": "execute_result"
    }
   ],
   "source": [
    "mymatrix.shape"
   ]
  },
  {
   "cell_type": "code",
   "execution_count": 12,
   "id": "8b6d3ee0-eb53-4781-88ca-173b57ce6006",
   "metadata": {},
   "outputs": [],
   "source": [
    "mynewmatrix = np.array(mylist)"
   ]
  },
  {
   "cell_type": "code",
   "execution_count": null,
   "id": "547aeb1c-3a0a-4744-890e-47aababda25d",
   "metadata": {},
   "outputs": [],
   "source": []
  },
  {
   "cell_type": "code",
   "execution_count": 13,
   "id": "7c0eb3e8-7701-444c-942d-c2a0282e7c7e",
   "metadata": {},
   "outputs": [
    {
     "data": {
      "text/plain": [
       "array([0.1, 2.1, 4.1, 6.1, 8.1])"
      ]
     },
     "execution_count": 13,
     "metadata": {},
     "output_type": "execute_result"
    }
   ],
   "source": [
    "np.arange(0.1,10,2)"
   ]
  },
  {
   "cell_type": "code",
   "execution_count": 14,
   "id": "018abeb4-0325-40ac-bf4d-2370212dd363",
   "metadata": {},
   "outputs": [
    {
     "data": {
      "text/plain": [
       "array([[0., 0., 0., 0., 0., 0., 0., 0., 0., 0.],\n",
       "       [0., 0., 0., 0., 0., 0., 0., 0., 0., 0.],\n",
       "       [0., 0., 0., 0., 0., 0., 0., 0., 0., 0.],\n",
       "       [0., 0., 0., 0., 0., 0., 0., 0., 0., 0.]])"
      ]
     },
     "execution_count": 14,
     "metadata": {},
     "output_type": "execute_result"
    }
   ],
   "source": [
    "np.zeros((4,10))"
   ]
  },
  {
   "cell_type": "code",
   "execution_count": 15,
   "id": "5b3ae1a1-6901-491e-875c-bd366e4f4987",
   "metadata": {},
   "outputs": [
    {
     "data": {
      "text/plain": [
       "array([[6., 6., 6., 6., 6.],\n",
       "       [6., 6., 6., 6., 6.],\n",
       "       [6., 6., 6., 6., 6.],\n",
       "       [6., 6., 6., 6., 6.],\n",
       "       [6., 6., 6., 6., 6.]])"
      ]
     },
     "execution_count": 15,
     "metadata": {},
     "output_type": "execute_result"
    }
   ],
   "source": [
    "np.ones((5,5)) + 5"
   ]
  },
  {
   "cell_type": "code",
   "execution_count": 16,
   "id": "a2161424-a9f9-4527-a016-6331a72548c0",
   "metadata": {},
   "outputs": [
    {
     "data": {
      "text/plain": [
       "array([0.01, 0.01, 0.01, 0.01])"
      ]
     },
     "execution_count": 16,
     "metadata": {},
     "output_type": "execute_result"
    }
   ],
   "source": [
    "np.ones(4) / 100"
   ]
  },
  {
   "cell_type": "code",
   "execution_count": 17,
   "id": "acb9a666-309f-4657-aa69-b1790b8e2af3",
   "metadata": {},
   "outputs": [
    {
     "data": {
      "text/plain": [
       "array([ 0.        ,  0.06711409,  0.13422819,  0.20134228,  0.26845638,\n",
       "        0.33557047,  0.40268456,  0.46979866,  0.53691275,  0.60402685,\n",
       "        0.67114094,  0.73825503,  0.80536913,  0.87248322,  0.93959732,\n",
       "        1.00671141,  1.0738255 ,  1.1409396 ,  1.20805369,  1.27516779,\n",
       "        1.34228188,  1.40939597,  1.47651007,  1.54362416,  1.61073826,\n",
       "        1.67785235,  1.74496644,  1.81208054,  1.87919463,  1.94630872,\n",
       "        2.01342282,  2.08053691,  2.14765101,  2.2147651 ,  2.28187919,\n",
       "        2.34899329,  2.41610738,  2.48322148,  2.55033557,  2.61744966,\n",
       "        2.68456376,  2.75167785,  2.81879195,  2.88590604,  2.95302013,\n",
       "        3.02013423,  3.08724832,  3.15436242,  3.22147651,  3.2885906 ,\n",
       "        3.3557047 ,  3.42281879,  3.48993289,  3.55704698,  3.62416107,\n",
       "        3.69127517,  3.75838926,  3.82550336,  3.89261745,  3.95973154,\n",
       "        4.02684564,  4.09395973,  4.16107383,  4.22818792,  4.29530201,\n",
       "        4.36241611,  4.4295302 ,  4.4966443 ,  4.56375839,  4.63087248,\n",
       "        4.69798658,  4.76510067,  4.83221477,  4.89932886,  4.96644295,\n",
       "        5.03355705,  5.10067114,  5.16778523,  5.23489933,  5.30201342,\n",
       "        5.36912752,  5.43624161,  5.5033557 ,  5.5704698 ,  5.63758389,\n",
       "        5.70469799,  5.77181208,  5.83892617,  5.90604027,  5.97315436,\n",
       "        6.04026846,  6.10738255,  6.17449664,  6.24161074,  6.30872483,\n",
       "        6.37583893,  6.44295302,  6.51006711,  6.57718121,  6.6442953 ,\n",
       "        6.7114094 ,  6.77852349,  6.84563758,  6.91275168,  6.97986577,\n",
       "        7.04697987,  7.11409396,  7.18120805,  7.24832215,  7.31543624,\n",
       "        7.38255034,  7.44966443,  7.51677852,  7.58389262,  7.65100671,\n",
       "        7.71812081,  7.7852349 ,  7.85234899,  7.91946309,  7.98657718,\n",
       "        8.05369128,  8.12080537,  8.18791946,  8.25503356,  8.32214765,\n",
       "        8.38926174,  8.45637584,  8.52348993,  8.59060403,  8.65771812,\n",
       "        8.72483221,  8.79194631,  8.8590604 ,  8.9261745 ,  8.99328859,\n",
       "        9.06040268,  9.12751678,  9.19463087,  9.26174497,  9.32885906,\n",
       "        9.39597315,  9.46308725,  9.53020134,  9.59731544,  9.66442953,\n",
       "        9.73154362,  9.79865772,  9.86577181,  9.93288591, 10.        ])"
      ]
     },
     "execution_count": 17,
     "metadata": {},
     "output_type": "execute_result"
    }
   ],
   "source": [
    "np.linspace(0,10,150)"
   ]
  },
  {
   "cell_type": "code",
   "execution_count": 18,
   "id": "a7c1fd56-1320-452a-ac30-920654906fb7",
   "metadata": {},
   "outputs": [
    {
     "data": {
      "text/plain": [
       "array([[1., 0., 0., 0., 0.],\n",
       "       [0., 1., 0., 0., 0.],\n",
       "       [0., 0., 1., 0., 0.],\n",
       "       [0., 0., 0., 1., 0.],\n",
       "       [0., 0., 0., 0., 1.]])"
      ]
     },
     "execution_count": 18,
     "metadata": {},
     "output_type": "execute_result"
    }
   ],
   "source": [
    "np.eye(5)"
   ]
  },
  {
   "cell_type": "code",
   "execution_count": 19,
   "id": "db1cef2a-79bc-47e8-a9f0-bf5855a42ae6",
   "metadata": {},
   "outputs": [
    {
     "data": {
      "text/plain": [
       "array([[0.84312386, 0.76914973, 0.47223284, 0.51361283, 0.40385515],\n",
       "       [0.72654997, 0.91918781, 0.89173326, 0.15879301, 0.39503317],\n",
       "       [0.20984755, 0.96584484, 0.64449108, 0.72872758, 0.22396055],\n",
       "       [0.87431794, 0.31930231, 0.61673164, 0.05831916, 0.16371569]])"
      ]
     },
     "execution_count": 19,
     "metadata": {},
     "output_type": "execute_result"
    }
   ],
   "source": [
    "np.random.rand(4,5)"
   ]
  },
  {
   "cell_type": "code",
   "execution_count": 20,
   "id": "d753e539-7a1e-461a-a528-542ed5f4b045",
   "metadata": {},
   "outputs": [
    {
     "data": {
      "text/plain": [
       "array([[ 1.00240077,  0.08901541, -0.2913319 ,  0.72677576,  0.41420123],\n",
       "       [-0.14995482, -0.43502071,  0.20147472, -1.70427197, -0.06416395],\n",
       "       [ 1.04979414,  1.61157013, -0.00675548,  0.71641351, -0.81508292],\n",
       "       [ 0.93662367,  1.47232889,  0.65545314,  1.80096233, -0.06307769],\n",
       "       [ 0.05589365, -0.31084892, -0.53021373, -1.94205445, -0.9500041 ]])"
      ]
     },
     "execution_count": 20,
     "metadata": {},
     "output_type": "execute_result"
    }
   ],
   "source": [
    "np.random.randn(5,5)"
   ]
  },
  {
   "cell_type": "code",
   "execution_count": 21,
   "id": "004e8b19-d0d3-4e9f-9807-e1da463e0f60",
   "metadata": {},
   "outputs": [
    {
     "data": {
      "text/plain": [
       "<function RandomState.normal>"
      ]
     },
     "execution_count": 21,
     "metadata": {},
     "output_type": "execute_result"
    }
   ],
   "source": [
    "np.random.normal"
   ]
  },
  {
   "cell_type": "code",
   "execution_count": 22,
   "id": "aa7673c2-3d38-4bc6-b6db-a8409777b8d3",
   "metadata": {},
   "outputs": [
    {
     "data": {
      "text/plain": [
       "array([ 55,  59,  20, 191, 153,  21,  65,  48, 184, 176])"
      ]
     },
     "execution_count": 22,
     "metadata": {},
     "output_type": "execute_result"
    }
   ],
   "source": [
    "np.random.randint(5,200,10)"
   ]
  },
  {
   "cell_type": "code",
   "execution_count": 23,
   "id": "4d63e31a-4253-4445-87cb-65a5727670f8",
   "metadata": {},
   "outputs": [
    {
     "data": {
      "text/plain": [
       "array([0.51639863, 0.57066759, 0.02847423, 0.17152166])"
      ]
     },
     "execution_count": 23,
     "metadata": {},
     "output_type": "execute_result"
    }
   ],
   "source": [
    "np.random.seed(101)\n",
    "np.random.rand(4)"
   ]
  },
  {
   "cell_type": "code",
   "execution_count": 24,
   "id": "62dd9d0e-c1cb-419f-89d2-261f0adf3b0b",
   "metadata": {},
   "outputs": [
    {
     "data": {
      "text/plain": [
       "array([0.68527698, 0.83389686, 0.30696622, 0.89361308])"
      ]
     },
     "execution_count": 24,
     "metadata": {},
     "output_type": "execute_result"
    }
   ],
   "source": [
    "np.random.rand(4)"
   ]
  },
  {
   "cell_type": "code",
   "execution_count": 25,
   "id": "e8ef52e3-7d72-4e38-87bc-18d2595d4647",
   "metadata": {},
   "outputs": [
    {
     "data": {
      "text/plain": [
       "array([0.72154386, 0.18993895, 0.55422759, 0.35213195])"
      ]
     },
     "execution_count": 25,
     "metadata": {},
     "output_type": "execute_result"
    }
   ],
   "source": [
    "np.random.rand(4)"
   ]
  },
  {
   "cell_type": "code",
   "execution_count": 26,
   "id": "bb6afbf8-2660-4202-b366-d8b1a91c64d5",
   "metadata": {},
   "outputs": [],
   "source": [
    "arr = np.arange(25)"
   ]
  },
  {
   "cell_type": "code",
   "execution_count": 27,
   "id": "8fd96119-e081-4d0d-b401-024a3f798317",
   "metadata": {},
   "outputs": [
    {
     "data": {
      "text/plain": [
       "array([ 0,  1,  2,  3,  4,  5,  6,  7,  8,  9, 10, 11, 12, 13, 14, 15, 16,\n",
       "       17, 18, 19, 20, 21, 22, 23, 24])"
      ]
     },
     "execution_count": 27,
     "metadata": {},
     "output_type": "execute_result"
    }
   ],
   "source": [
    "arr"
   ]
  },
  {
   "cell_type": "code",
   "execution_count": 28,
   "id": "be74a22f-37ae-4072-ae9c-9a352c98dd76",
   "metadata": {},
   "outputs": [],
   "source": [
    "ranarr = np.random.randint(0,50,10)"
   ]
  },
  {
   "cell_type": "code",
   "execution_count": 29,
   "id": "5f8d2cf4-06c6-4d0e-b883-175775447527",
   "metadata": {},
   "outputs": [
    {
     "data": {
      "text/plain": [
       "array([49, 19, 47,  8, 29, 34, 44,  8, 19, 10])"
      ]
     },
     "execution_count": 29,
     "metadata": {},
     "output_type": "execute_result"
    }
   ],
   "source": [
    "ranarr"
   ]
  },
  {
   "cell_type": "code",
   "execution_count": 30,
   "id": "5a5f80b3-6a78-4544-85f2-5c1d220a12ed",
   "metadata": {},
   "outputs": [
    {
     "data": {
      "text/plain": [
       "array([[ 0,  1,  2,  3,  4],\n",
       "       [ 5,  6,  7,  8,  9],\n",
       "       [10, 11, 12, 13, 14],\n",
       "       [15, 16, 17, 18, 19],\n",
       "       [20, 21, 22, 23, 24]])"
      ]
     },
     "execution_count": 30,
     "metadata": {},
     "output_type": "execute_result"
    }
   ],
   "source": [
    "arr.reshape(5,5)"
   ]
  },
  {
   "cell_type": "code",
   "execution_count": 31,
   "id": "cbb89392-b3e8-49d4-963f-11107a85fc15",
   "metadata": {},
   "outputs": [
    {
     "data": {
      "text/plain": [
       "49"
      ]
     },
     "execution_count": 31,
     "metadata": {},
     "output_type": "execute_result"
    }
   ],
   "source": [
    "ranarr.max()"
   ]
  },
  {
   "cell_type": "code",
   "execution_count": 32,
   "id": "c32c39a3-77a9-4ed5-a9dd-c572492f3eb1",
   "metadata": {},
   "outputs": [
    {
     "data": {
      "text/plain": [
       "8"
      ]
     },
     "execution_count": 32,
     "metadata": {},
     "output_type": "execute_result"
    }
   ],
   "source": [
    "ranarr.min()"
   ]
  },
  {
   "cell_type": "code",
   "execution_count": 33,
   "id": "fc79221e-5e72-4700-a12f-36ee294d23e5",
   "metadata": {},
   "outputs": [
    {
     "data": {
      "text/plain": [
       "array([49, 19, 47,  8, 29, 34, 44,  8, 19, 10])"
      ]
     },
     "execution_count": 33,
     "metadata": {},
     "output_type": "execute_result"
    }
   ],
   "source": [
    "ranarr"
   ]
  },
  {
   "cell_type": "code",
   "execution_count": 34,
   "id": "f985e3b7-52e2-4617-ab12-85ac39c691aa",
   "metadata": {},
   "outputs": [
    {
     "data": {
      "text/plain": [
       "0"
      ]
     },
     "execution_count": 34,
     "metadata": {},
     "output_type": "execute_result"
    }
   ],
   "source": [
    "ranarr.argmax()"
   ]
  },
  {
   "cell_type": "code",
   "execution_count": 35,
   "id": "d4a96249-12cf-43d8-8e20-be9e57442f44",
   "metadata": {},
   "outputs": [
    {
     "data": {
      "text/plain": [
       "3"
      ]
     },
     "execution_count": 35,
     "metadata": {},
     "output_type": "execute_result"
    }
   ],
   "source": [
    "ranarr.argmin()"
   ]
  },
  {
   "cell_type": "code",
   "execution_count": 36,
   "id": "32e757be-815f-4597-9a9f-65171f5ee44d",
   "metadata": {},
   "outputs": [
    {
     "data": {
      "text/plain": [
       "dtype('int64')"
      ]
     },
     "execution_count": 36,
     "metadata": {},
     "output_type": "execute_result"
    }
   ],
   "source": [
    "ranarr.dtype"
   ]
  },
  {
   "cell_type": "code",
   "execution_count": 37,
   "id": "988a342c-2ca9-4ab8-b85c-bc9d5df38322",
   "metadata": {},
   "outputs": [],
   "source": [
    "arr = np.arange(0,11)"
   ]
  },
  {
   "cell_type": "code",
   "execution_count": 38,
   "id": "c1c8aa29-302b-4ad7-b4b6-aa18bfc7457d",
   "metadata": {},
   "outputs": [
    {
     "data": {
      "text/plain": [
       "array([ 0,  1,  2,  3,  4,  5,  6,  7,  8,  9, 10])"
      ]
     },
     "execution_count": 38,
     "metadata": {},
     "output_type": "execute_result"
    }
   ],
   "source": [
    "arr"
   ]
  },
  {
   "cell_type": "code",
   "execution_count": 39,
   "id": "c0a1cb0a-5e1f-474d-bd8d-1a26b537eb07",
   "metadata": {},
   "outputs": [
    {
     "data": {
      "text/plain": [
       "array([1, 2, 3, 4])"
      ]
     },
     "execution_count": 39,
     "metadata": {},
     "output_type": "execute_result"
    }
   ],
   "source": [
    "arr[1:5]"
   ]
  },
  {
   "cell_type": "code",
   "execution_count": 40,
   "id": "eae045a5-9289-469d-9683-0d911f19ee4f",
   "metadata": {},
   "outputs": [
    {
     "data": {
      "text/plain": [
       "array([0, 1, 2, 3, 4])"
      ]
     },
     "execution_count": 40,
     "metadata": {},
     "output_type": "execute_result"
    }
   ],
   "source": [
    "arr[0:5]\n"
   ]
  },
  {
   "cell_type": "code",
   "execution_count": 41,
   "id": "4cdcb1c7-217b-4c02-adb9-ada27a0f9c62",
   "metadata": {},
   "outputs": [
    {
     "data": {
      "text/plain": [
       "array([0, 1, 2, 3, 4])"
      ]
     },
     "execution_count": 41,
     "metadata": {},
     "output_type": "execute_result"
    }
   ],
   "source": [
    "arr[:5]"
   ]
  },
  {
   "cell_type": "code",
   "execution_count": 42,
   "id": "3e8dd877-1c64-4de4-a737-191918157003",
   "metadata": {},
   "outputs": [
    {
     "data": {
      "text/plain": [
       "array([ 5,  6,  7,  8,  9, 10])"
      ]
     },
     "execution_count": 42,
     "metadata": {},
     "output_type": "execute_result"
    }
   ],
   "source": [
    "arr[5:]"
   ]
  },
  {
   "cell_type": "code",
   "execution_count": 43,
   "id": "25ffe453-f451-4f2f-a411-30bf11469dbb",
   "metadata": {},
   "outputs": [
    {
     "data": {
      "text/plain": [
       "array([0, 1, 2, 3, 4, 5])"
      ]
     },
     "execution_count": 43,
     "metadata": {},
     "output_type": "execute_result"
    }
   ],
   "source": [
    "arr[:-5]"
   ]
  },
  {
   "cell_type": "code",
   "execution_count": 44,
   "id": "2bf57c2a-e6d2-4ed8-aab3-df42b405139e",
   "metadata": {},
   "outputs": [
    {
     "data": {
      "text/plain": [
       "array([100, 101, 102, 103, 104, 105, 106, 107, 108, 109, 110])"
      ]
     },
     "execution_count": 44,
     "metadata": {},
     "output_type": "execute_result"
    }
   ],
   "source": [
    "arr + 100"
   ]
  },
  {
   "cell_type": "code",
   "execution_count": 45,
   "id": "a386b635-cdf5-40b8-8f82-b841ca7f929c",
   "metadata": {},
   "outputs": [],
   "source": [
    "new_arr = arr / 2"
   ]
  },
  {
   "cell_type": "code",
   "execution_count": 46,
   "id": "3f0662b2-5cb7-485e-8130-0e73c05387e4",
   "metadata": {},
   "outputs": [
    {
     "data": {
      "text/plain": [
       "array([0. , 0.5, 1. , 1.5, 2. , 2.5, 3. , 3.5, 4. , 4.5, 5. ])"
      ]
     },
     "execution_count": 46,
     "metadata": {},
     "output_type": "execute_result"
    }
   ],
   "source": [
    "new_arr"
   ]
  },
  {
   "cell_type": "code",
   "execution_count": 47,
   "id": "b2e39bc7-874d-4008-8d8d-a315b6e1579a",
   "metadata": {},
   "outputs": [
    {
     "data": {
      "text/plain": [
       "array([  0,   1,   4,   9,  16,  25,  36,  49,  64,  81, 100])"
      ]
     },
     "execution_count": 47,
     "metadata": {},
     "output_type": "execute_result"
    }
   ],
   "source": [
    "arr ** 2"
   ]
  },
  {
   "cell_type": "code",
   "execution_count": 48,
   "id": "594dbd39-f5bb-4d60-b49a-85c98f0ceb50",
   "metadata": {},
   "outputs": [],
   "source": [
    "slice_of_arr = arr[0:6]"
   ]
  },
  {
   "cell_type": "code",
   "execution_count": 49,
   "id": "d11148e9-cec4-45b3-8924-61fd91cccaff",
   "metadata": {},
   "outputs": [
    {
     "data": {
      "text/plain": [
       "array([0, 1, 2, 3, 4, 5])"
      ]
     },
     "execution_count": 49,
     "metadata": {},
     "output_type": "execute_result"
    }
   ],
   "source": [
    "slice_of_arr"
   ]
  },
  {
   "cell_type": "code",
   "execution_count": 50,
   "id": "b6d14b56-87a5-49a2-b42f-e9fe6566e17d",
   "metadata": {},
   "outputs": [],
   "source": [
    "slice_of_arr[:] = 99"
   ]
  },
  {
   "cell_type": "code",
   "execution_count": 51,
   "id": "35fbc9a7-7b48-4e58-9827-ebc96d29fa69",
   "metadata": {},
   "outputs": [
    {
     "data": {
      "text/plain": [
       "array([99, 99, 99, 99, 99, 99])"
      ]
     },
     "execution_count": 51,
     "metadata": {},
     "output_type": "execute_result"
    }
   ],
   "source": [
    "slice_of_arr"
   ]
  },
  {
   "cell_type": "code",
   "execution_count": 52,
   "id": "c9c80b61-fb6e-4008-9a98-6e0bc6ae00eb",
   "metadata": {},
   "outputs": [
    {
     "data": {
      "text/plain": [
       "array([99, 99, 99, 99, 99, 99,  6,  7,  8,  9, 10])"
      ]
     },
     "execution_count": 52,
     "metadata": {},
     "output_type": "execute_result"
    }
   ],
   "source": [
    "arr"
   ]
  },
  {
   "cell_type": "code",
   "execution_count": 53,
   "id": "e98e51f8-fd8c-4448-8e6b-05cd0d353de6",
   "metadata": {},
   "outputs": [],
   "source": [
    "arr_copy = arr.copy()"
   ]
  },
  {
   "cell_type": "code",
   "execution_count": 54,
   "id": "f33bf4a8-e895-4ba5-b799-a462f11cb1ab",
   "metadata": {},
   "outputs": [],
   "source": [
    "arr_copy[:] = 10000"
   ]
  },
  {
   "cell_type": "code",
   "execution_count": 55,
   "id": "a9144bb1-9d21-4604-a205-80cdc44e97bb",
   "metadata": {},
   "outputs": [
    {
     "data": {
      "text/plain": [
       "array([10000, 10000, 10000, 10000, 10000, 10000, 10000, 10000, 10000,\n",
       "       10000, 10000])"
      ]
     },
     "execution_count": 55,
     "metadata": {},
     "output_type": "execute_result"
    }
   ],
   "source": [
    "arr_copy"
   ]
  },
  {
   "cell_type": "code",
   "execution_count": 56,
   "id": "01a4e5e0-0f33-4cf7-99a2-91e4be2dd385",
   "metadata": {},
   "outputs": [
    {
     "data": {
      "text/plain": [
       "array([99, 99, 99, 99, 99, 99,  6,  7,  8,  9, 10])"
      ]
     },
     "execution_count": 56,
     "metadata": {},
     "output_type": "execute_result"
    }
   ],
   "source": [
    "arr"
   ]
  },
  {
   "cell_type": "code",
   "execution_count": 57,
   "id": "e46d5bb2-fd55-4052-836b-985971bc42f4",
   "metadata": {},
   "outputs": [],
   "source": [
    "#Indezando en 2D array"
   ]
  },
  {
   "cell_type": "code",
   "execution_count": 58,
   "id": "5275fe54-ecca-42d7-92f1-c1692f33388f",
   "metadata": {},
   "outputs": [],
   "source": [
    "arr_2d = np.array([[5,10,15],[20,25,30],[35,40,45]])"
   ]
  },
  {
   "cell_type": "code",
   "execution_count": 59,
   "id": "4a0e3905-c352-423a-91df-465517186f36",
   "metadata": {},
   "outputs": [
    {
     "data": {
      "text/plain": [
       "array([[ 5, 10, 15],\n",
       "       [20, 25, 30],\n",
       "       [35, 40, 45]])"
      ]
     },
     "execution_count": 59,
     "metadata": {},
     "output_type": "execute_result"
    }
   ],
   "source": [
    "arr_2d"
   ]
  },
  {
   "cell_type": "code",
   "execution_count": 60,
   "id": "a88b0d91-5b7b-4dcd-a404-10e45994f976",
   "metadata": {},
   "outputs": [
    {
     "data": {
      "text/plain": [
       "(3, 3)"
      ]
     },
     "execution_count": 60,
     "metadata": {},
     "output_type": "execute_result"
    }
   ],
   "source": [
    "arr_2d.shape"
   ]
  },
  {
   "cell_type": "code",
   "execution_count": 61,
   "id": "d024618e-3fbd-49d4-99d3-b5c7d1aa60f8",
   "metadata": {},
   "outputs": [
    {
     "data": {
      "text/plain": [
       "25"
      ]
     },
     "execution_count": 61,
     "metadata": {},
     "output_type": "execute_result"
    }
   ],
   "source": [
    "arr_2d[1][1]"
   ]
  },
  {
   "cell_type": "code",
   "execution_count": 62,
   "id": "f91ae8ef-decd-4ab3-b7c3-b549d14f5200",
   "metadata": {},
   "outputs": [
    {
     "data": {
      "text/plain": [
       "25"
      ]
     },
     "execution_count": 62,
     "metadata": {},
     "output_type": "execute_result"
    }
   ],
   "source": [
    "arr_2d[1,1]"
   ]
  },
  {
   "cell_type": "code",
   "execution_count": 63,
   "id": "f050f351-6c10-4a23-ad1d-6d5936a4cc10",
   "metadata": {},
   "outputs": [
    {
     "data": {
      "text/plain": [
       "array([[10, 15],\n",
       "       [25, 30]])"
      ]
     },
     "execution_count": 63,
     "metadata": {},
     "output_type": "execute_result"
    }
   ],
   "source": [
    "arr_2d[:2,1:]"
   ]
  },
  {
   "cell_type": "code",
   "execution_count": 64,
   "id": "4dd128b2-f8bf-4516-8775-e3319f231296",
   "metadata": {},
   "outputs": [],
   "source": [
    "arr = np.arange(1,11)"
   ]
  },
  {
   "cell_type": "code",
   "execution_count": 65,
   "id": "e40352b4-7d8a-4ea3-9570-5a222281fd6a",
   "metadata": {},
   "outputs": [
    {
     "data": {
      "text/plain": [
       "array([ 1,  2,  3,  4,  5,  6,  7,  8,  9, 10])"
      ]
     },
     "execution_count": 65,
     "metadata": {},
     "output_type": "execute_result"
    }
   ],
   "source": [
    "arr"
   ]
  },
  {
   "cell_type": "code",
   "execution_count": 66,
   "id": "e9d8d1cf-1297-4d57-9f15-8e198b624e69",
   "metadata": {},
   "outputs": [
    {
     "data": {
      "text/plain": [
       "array([False, False, False,  True, False, False, False, False, False,\n",
       "       False])"
      ]
     },
     "execution_count": 66,
     "metadata": {},
     "output_type": "execute_result"
    }
   ],
   "source": [
    "arr == 4"
   ]
  },
  {
   "cell_type": "code",
   "execution_count": 67,
   "id": "ae6d81ce-1dcf-44dd-b957-68afab3483c4",
   "metadata": {},
   "outputs": [],
   "source": [
    "bool_arr = arr == 4"
   ]
  },
  {
   "cell_type": "code",
   "execution_count": 68,
   "id": "d1764f0f-3d28-4482-bece-b482b1f2adca",
   "metadata": {},
   "outputs": [
    {
     "data": {
      "text/plain": [
       "array([False, False, False,  True, False, False, False, False, False,\n",
       "       False])"
      ]
     },
     "execution_count": 68,
     "metadata": {},
     "output_type": "execute_result"
    }
   ],
   "source": [
    "bool_arr "
   ]
  },
  {
   "cell_type": "code",
   "execution_count": 69,
   "id": "783e4e97-c35a-4cf1-a3c4-bf999462f41c",
   "metadata": {},
   "outputs": [
    {
     "data": {
      "text/plain": [
       "array([4])"
      ]
     },
     "execution_count": 69,
     "metadata": {},
     "output_type": "execute_result"
    }
   ],
   "source": [
    "arr[bool_arr]"
   ]
  },
  {
   "cell_type": "code",
   "execution_count": 71,
   "id": "bf5add9a-2873-4440-a636-660ed792282d",
   "metadata": {},
   "outputs": [
    {
     "data": {
      "text/plain": [
       "array([ 8,  9, 10])"
      ]
     },
     "execution_count": 71,
     "metadata": {},
     "output_type": "execute_result"
    }
   ],
   "source": [
    "arr[arr >= 8]"
   ]
  },
  {
   "cell_type": "code",
   "execution_count": null,
   "id": "a7754321-e03c-4d64-a86e-7936f43c1317",
   "metadata": {},
   "outputs": [],
   "source": []
  }
 ],
 "metadata": {
  "kernelspec": {
   "display_name": "Python 3 (ipykernel)",
   "language": "python",
   "name": "python3"
  },
  "language_info": {
   "codemirror_mode": {
    "name": "ipython",
    "version": 3
   },
   "file_extension": ".py",
   "mimetype": "text/x-python",
   "name": "python",
   "nbconvert_exporter": "python",
   "pygments_lexer": "ipython3",
   "version": "3.8.10"
  }
 },
 "nbformat": 4,
 "nbformat_minor": 5
}
